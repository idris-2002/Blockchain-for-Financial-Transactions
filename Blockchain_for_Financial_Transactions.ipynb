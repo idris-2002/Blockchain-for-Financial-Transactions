{
  "nbformat": 4,
  "nbformat_minor": 0,
  "metadata": {
    "colab": {
      "provenance": [],
      "authorship_tag": "ABX9TyOZswPTd5CYJ9c7jh1HLcCC",
      "include_colab_link": true
    },
    "kernelspec": {
      "name": "python3",
      "display_name": "Python 3"
    },
    "language_info": {
      "name": "python"
    }
  },
  "cells": [
    {
      "cell_type": "markdown",
      "metadata": {
        "id": "view-in-github",
        "colab_type": "text"
      },
      "source": [
        "<a href=\"https://colab.research.google.com/github/idris-2002/Blockchain-for-Financial-Transactions/blob/main/Blockchain_for_Financial_Transactions.ipynb\" target=\"_parent\"><img src=\"https://colab.research.google.com/assets/colab-badge.svg\" alt=\"Open In Colab\"/></a>"
      ]
    },
    {
      "cell_type": "code",
      "execution_count": 1,
      "metadata": {
        "colab": {
          "base_uri": "https://localhost:8080/"
        },
        "id": "XgZT3qLiN3cQ",
        "outputId": "ac043540-7136-41a8-9a89-ead9bf6d2f5c"
      },
      "outputs": [
        {
          "output_type": "stream",
          "name": "stdout",
          "text": [
            "{\n",
            "    \"index\": 1,\n",
            "    \"timestamp\": 1756376885.5068243,\n",
            "    \"transactions\": [],\n",
            "    \"previous_hash\": \"0\"\n",
            "}\n",
            "{\n",
            "    \"index\": 2,\n",
            "    \"timestamp\": 1756376885.5071034,\n",
            "    \"transactions\": [\n",
            "        {\n",
            "            \"sender\": \"Alice\",\n",
            "            \"receiver\": \"Bob\",\n",
            "            \"amount\": 100\n",
            "        },\n",
            "        {\n",
            "            \"sender\": \"Bob\",\n",
            "            \"receiver\": \"Charlie\",\n",
            "            \"amount\": 50\n",
            "        }\n",
            "    ],\n",
            "    \"previous_hash\": \"ffe6317e1341d662ed74a5491a48e60a7d0ece9783a965d08fb9fc84df481475\"\n",
            "}\n",
            "{\n",
            "    \"index\": 3,\n",
            "    \"timestamp\": 1756376885.5073574,\n",
            "    \"transactions\": [\n",
            "        {\n",
            "            \"sender\": \"Charlie\",\n",
            "            \"receiver\": \"David\",\n",
            "            \"amount\": 200\n",
            "        },\n",
            "        {\n",
            "            \"sender\": \"Alice\",\n",
            "            \"receiver\": \"Eve\",\n",
            "            \"amount\": 75\n",
            "        }\n",
            "    ],\n",
            "    \"previous_hash\": \"e0544b490d2f381b570e12415afae0067c117cad515373ae810f9a48cdf0ca3b\"\n",
            "}\n"
          ]
        }
      ],
      "source": [
        "import hashlib\n",
        "import json\n",
        "from time import time\n",
        "\n",
        "class Blockchain:\n",
        "    def __init__(self):\n",
        "        self.chain = []\n",
        "        self.pending_transactions = []\n",
        "        # Create the Genesis Block\n",
        "        self.create_block(previous_hash='0')\n",
        "\n",
        "    def create_block(self, previous_hash):\n",
        "        block = {\n",
        "            'index': len(self.chain) + 1,\n",
        "            'timestamp': time(),\n",
        "            'transactions': self.pending_transactions,\n",
        "            'previous_hash': previous_hash\n",
        "        }\n",
        "        # Reset pending transactions\n",
        "        self.pending_transactions = []\n",
        "        self.chain.append(block)\n",
        "        return block\n",
        "\n",
        "    def add_transaction(self, sender, receiver, amount):\n",
        "        transaction = {\n",
        "            'sender': sender,\n",
        "            'receiver': receiver,\n",
        "            'amount': amount\n",
        "        }\n",
        "        self.pending_transactions.append(transaction)\n",
        "        return self.last_block['index'] + 1\n",
        "\n",
        "    @staticmethod\n",
        "    def hash(block):\n",
        "        return hashlib.sha256(json.dumps(block, sort_keys=True).encode()).hexdigest()\n",
        "\n",
        "    @property\n",
        "    def last_block(self):\n",
        "        return self.chain[-1]\n",
        "\n",
        "\n",
        "# ------------------ Testing the Blockchain ------------------\n",
        "finance_chain = Blockchain()\n",
        "\n",
        "# Add transactions\n",
        "finance_chain.add_transaction(\"Alice\", \"Bob\", 100)\n",
        "finance_chain.add_transaction(\"Bob\", \"Charlie\", 50)\n",
        "\n",
        "# Mine a block (add to chain)\n",
        "finance_chain.create_block(previous_hash=Blockchain.hash(finance_chain.last_block))\n",
        "\n",
        "finance_chain.add_transaction(\"Charlie\", \"David\", 200)\n",
        "finance_chain.add_transaction(\"Alice\", \"Eve\", 75)\n",
        "\n",
        "# Mine another block\n",
        "finance_chain.create_block(previous_hash=Blockchain.hash(finance_chain.last_block))\n",
        "\n",
        "# Print blockchain\n",
        "for block in finance_chain.chain:\n",
        "    print(json.dumps(block, indent=4))\n",
        "\n"
      ]
    }
  ]
}